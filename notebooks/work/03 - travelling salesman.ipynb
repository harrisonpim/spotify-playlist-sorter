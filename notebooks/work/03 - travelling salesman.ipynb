{
 "cells": [
  {
   "cell_type": "code",
   "execution_count": null,
   "id": "c720e0c6-a375-4326-a6f5-b0326e1725c7",
   "metadata": {},
   "outputs": [],
   "source": [
    "import os\n",
    "import numpy as np\n",
    "import pandas as pd\n",
    "import spotipy\n",
    "from py2opt.routefinder import RouteFinder"
   ]
  },
  {
   "cell_type": "markdown",
   "id": "982c4018-67dc-48d9-9c96-389e94e6762d",
   "metadata": {},
   "source": [
    "# travelling salesman\n",
    "We want to find an path between tracks which minimises the distance of each step, visiting every track once and only once. This is essentially the [travelling salesman problem](https://en.m.wikipedia.org/wiki/Travelling_salesman_problem), which can be solved approximately using the [2-opt algorithm](https://en.m.wikipedia.org/wiki/2-opt).\n",
    "\n",
    "First, we'll load in the data we've previously collected."
   ]
  },
  {
   "cell_type": "code",
   "execution_count": null,
   "id": "5bff56bf-2659-466d-8535-7030a5616fb0",
   "metadata": {},
   "outputs": [],
   "source": [
    "playlist_id = os.environ[\"PLAYLIST_ID\"]\n",
    "distance_matrix = np.load(f\"./data/{playlist_id}_distance.npy\")"
   ]
  },
  {
   "cell_type": "code",
   "execution_count": null,
   "id": "37166014-4b2b-41c6-b277-12a75a991b94",
   "metadata": {},
   "outputs": [],
   "source": [
    "df = pd.read_csv(\n",
    "    f\"./data/{playlist_id}_features.csv\",\n",
    "    index_col=0\n",
    ")"
   ]
  },
  {
   "cell_type": "markdown",
   "id": "8e368dd3-6fbd-4f56-b53c-423313a98494",
   "metadata": {},
   "source": [
    "Now we can run py2opt's version of the 2-opt algorithm to find an idealised path through all the nodes in our graph/distance matrix.\n",
    "\n",
    "`py2opt` is a very chatty library, so we'll also use a bit of ipython magic to [capture](https://ipython.readthedocs.io/en/stable/interactive/magics.html#cellmagic-capture) and discard the output of the function - we'll still retain the meaningful results."
   ]
  },
  {
   "cell_type": "code",
   "execution_count": null,
   "id": "668ca301-b005-4b21-897b-bea11aa1c5ff",
   "metadata": {},
   "outputs": [],
   "source": [
    "%%capture \n",
    "\n",
    "route_finder = RouteFinder(\n",
    "    distance_matrix.tolist(), \n",
    "    df.index.values.tolist(), \n",
    "    iterations=100,\n",
    "\n",
    ")\n",
    "\n",
    "best_distance, best_route = route_finder.solve()"
   ]
  },
  {
   "cell_type": "code",
   "execution_count": null,
   "id": "24eacf04-e468-48dc-b853-181bacd2ce1d",
   "metadata": {},
   "outputs": [],
   "source": [
    "best_distance"
   ]
  },
  {
   "cell_type": "markdown",
   "id": "5f7182b1-2070-4a99-85f7-0184cdd6fc65",
   "metadata": {},
   "source": [
    "That's it, we have ain idealised path through our tracks according to their features!"
   ]
  },
  {
   "cell_type": "code",
   "execution_count": null,
   "id": "7089e14f-a744-4fef-9fef-46cde70e2206",
   "metadata": {},
   "outputs": [],
   "source": [
    "sp = spotipy.Spotify(\n",
    "    client_credentials_manager=spotipy.oauth2.SpotifyClientCredentials()\n",
    ")\n",
    "\n",
    "for track_id in best_route:\n",
    "    track = sp.track(track_id)\n",
    "    print(f\"{track['artists'][0]['name']}\\n  {track['name']}\\n\")"
   ]
  },
  {
   "cell_type": "code",
   "execution_count": null,
   "id": "e28e63b8-7ba8-4492-9526-9ac561685115",
   "metadata": {},
   "outputs": [],
   "source": []
  },
  {
   "cell_type": "code",
   "execution_count": null,
   "id": "c1489909-d00a-4398-ae8b-51f7040c6be0",
   "metadata": {},
   "outputs": [],
   "source": []
  }
 ],
 "metadata": {
  "kernelspec": {
   "display_name": "Python 3",
   "language": "python",
   "name": "python3"
  },
  "language_info": {
   "codemirror_mode": {
    "name": "ipython",
    "version": 3
   },
   "file_extension": ".py",
   "mimetype": "text/x-python",
   "name": "python",
   "nbconvert_exporter": "python",
   "pygments_lexer": "ipython3",
   "version": "3.9.2"
  }
 },
 "nbformat": 4,
 "nbformat_minor": 5
}
