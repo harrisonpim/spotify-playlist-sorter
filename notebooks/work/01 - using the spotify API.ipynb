{
 "cells": [
  {
   "cell_type": "code",
   "execution_count": null,
   "id": "a0ac096a-23da-4194-bee0-8e53ab202733",
   "metadata": {},
   "outputs": [],
   "source": [
    "import os\n",
    "import spotipy\n",
    "import pandas as pd"
   ]
  },
  {
   "cell_type": "markdown",
   "id": "f9c40caa-5cf0-452a-9230-c8084b5c0f28",
   "metadata": {},
   "source": [
    "# Using the spotify API\n",
    "To run these notebooks, you'll need to set up a project on https://developer.spotify.com/ and add its credentials to your local `.env` file. You'll also need a playlist ID\n",
    "\n",
    "In this notebook, we'll use the spotify API to fetch the IDs and features of all the songs in the playlist, and store those as a dataframe. This is the dataset which the rest of the project will be built on.\n",
    "\n",
    "First, we'll set up an authorised connection to the spotify API with `spotipy`."
   ]
  },
  {
   "cell_type": "code",
   "execution_count": null,
   "id": "45ca828d-5983-4a93-abdd-af9c303b5a51",
   "metadata": {},
   "outputs": [],
   "source": [
    "sp = spotipy.Spotify(\n",
    "    client_credentials_manager=spotipy.oauth2.SpotifyClientCredentials()\n",
    ")"
   ]
  },
  {
   "cell_type": "markdown",
   "id": "cb001d47-c0c4-4fff-898a-dada8c17ac09",
   "metadata": {},
   "source": [
    "Now we'll fetch the IDs of the tracks in our playlist."
   ]
  },
  {
   "cell_type": "code",
   "execution_count": null,
   "id": "c7c1b378-0543-4a31-b1d9-c53dc68afc5a",
   "metadata": {},
   "outputs": [],
   "source": [
    "playlist_id = os.environ[\"PLAYLIST_ID\"]"
   ]
  },
  {
   "cell_type": "code",
   "execution_count": null,
   "id": "3e13ab6e-02fc-4f66-903b-8bfaea865785",
   "metadata": {},
   "outputs": [],
   "source": [
    "playlist = sp.playlist(playlist_id)"
   ]
  },
  {
   "cell_type": "code",
   "execution_count": null,
   "id": "23dfd36c-f3b6-4fed-b592-354c4f609169",
   "metadata": {},
   "outputs": [],
   "source": [
    "track_ids = [track['track']['id'] for track in playlist['tracks']['items']]\n",
    "track_ids[:5]"
   ]
  },
  {
   "cell_type": "markdown",
   "id": "c223c61b-ed54-4364-9e9b-80ef911a4987",
   "metadata": {},
   "source": [
    "Next, we'll fetch the internal features that spotify has attributed to each track, like \"danceability\", \"energy,\", \"loudness\", etc."
   ]
  },
  {
   "cell_type": "code",
   "execution_count": null,
   "id": "eb7a869d-cb61-4f59-9d23-55c595f8f908",
   "metadata": {},
   "outputs": [],
   "source": [
    "track_feature_data = pd.DataFrame(\n",
    "    sp.audio_features(track_ids)\n",
    ").set_index(\"id\")\n",
    "\n",
    "track_feature_data"
   ]
  },
  {
   "cell_type": "markdown",
   "id": "ba677e3f-c9bd-408f-af78-ed79d46340c5",
   "metadata": {},
   "source": [
    "We only need a subset of these features for our purposes, so we'll cut down the dataset to the relevant columns and save it to the project's `data/` folder as a `.csv` file."
   ]
  },
  {
   "cell_type": "code",
   "execution_count": null,
   "id": "cd21c1dc-bda2-44b7-9ffc-29b889278a94",
   "metadata": {},
   "outputs": [],
   "source": [
    "useful_features = [\n",
    "    \"danceability\",\n",
    "    \"energy\",\n",
    "    \"loudness\",\n",
    "    \"speechiness\",\n",
    "    \"acousticness\",\n",
    "    \"instrumentalness\",\n",
    "    \"liveness\",\n",
    "    \"valence\",\n",
    "    \"tempo\"\n",
    "]"
   ]
  },
  {
   "cell_type": "code",
   "execution_count": null,
   "id": "e6c59233-cba0-4ad1-9ea8-6b2c40e1caf6",
   "metadata": {},
   "outputs": [],
   "source": [
    "features = track_feature_data[useful_features] \n",
    "features"
   ]
  },
  {
   "cell_type": "code",
   "execution_count": null,
   "id": "2a94043c-57ff-463d-bf08-ab860e05cb94",
   "metadata": {},
   "outputs": [],
   "source": [
    "features.to_csv(f\"./data/{playlist_id}_features.csv\")"
   ]
  },
  {
   "cell_type": "code",
   "execution_count": null,
   "id": "1f7bd8c6-b45c-4032-b2e1-4d71a26d36d2",
   "metadata": {},
   "outputs": [],
   "source": []
  }
 ],
 "metadata": {
  "kernelspec": {
   "display_name": "Python 3",
   "language": "python",
   "name": "python3"
  },
  "language_info": {
   "codemirror_mode": {
    "name": "ipython",
    "version": 3
   },
   "file_extension": ".py",
   "mimetype": "text/x-python",
   "name": "python",
   "nbconvert_exporter": "python",
   "pygments_lexer": "ipython3",
   "version": "3.9.2"
  }
 },
 "nbformat": 4,
 "nbformat_minor": 5
}
