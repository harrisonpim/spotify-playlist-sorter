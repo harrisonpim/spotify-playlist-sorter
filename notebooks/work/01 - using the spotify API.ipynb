{
 "cells": [
  {
   "cell_type": "markdown",
   "id": "f9c40caa-5cf0-452a-9230-c8084b5c0f28",
   "metadata": {},
   "source": [
    "# Using the spotify API\n",
    "\n",
    "- get creds from https://developer.spotify.com/"
   ]
  }
 ],
 "metadata": {
  "kernelspec": {
   "display_name": "Python 3",
   "language": "python",
   "name": "python3"
  },
  "language_info": {
   "codemirror_mode": {
    "name": "ipython",
    "version": 3
   },
   "file_extension": ".py",
   "mimetype": "text/x-python",
   "name": "python",
   "nbconvert_exporter": "python",
   "pygments_lexer": "ipython3",
   "version": "3.9.2"
  }
 },
 "nbformat": 4,
 "nbformat_minor": 5
}
