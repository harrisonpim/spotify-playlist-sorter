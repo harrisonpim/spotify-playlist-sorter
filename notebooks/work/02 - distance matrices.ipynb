{
 "cells": [
  {
   "cell_type": "code",
   "execution_count": null,
   "id": "d1d32790-b8b3-4c96-86ac-e123cae865b6",
   "metadata": {},
   "outputs": [],
   "source": [
    "import os\n",
    "import spotipy\n",
    "import numpy as np\n",
    "import pandas as pd\n",
    "import seaborn as sns\n",
    "from scipy.spatial.distance import cdist"
   ]
  },
  {
   "cell_type": "markdown",
   "id": "7fa7d9bb-51b5-4e81-a29f-10e03018d228",
   "metadata": {},
   "source": [
    "# Distance matrices\n",
    "\n",
    "To build a network which we can traverse with an ideal path, we first need to determine distances between each song according to the features we previously extracted from them. \n",
    "\n",
    "From there, we'll be able to determine an ideal path between them."
   ]
  },
  {
   "cell_type": "code",
   "execution_count": null,
   "id": "13e77dca-c6b8-4ede-acf5-e3b9ba596c90",
   "metadata": {},
   "outputs": [],
   "source": [
    "playlist_id = os.environ[\"PLAYLIST_ID\"]"
   ]
  },
  {
   "cell_type": "code",
   "execution_count": null,
   "id": "18e2c94b-03ba-41a3-941f-13ff8a320c0d",
   "metadata": {},
   "outputs": [],
   "source": [
    "df = pd.read_csv(\n",
    "    f\"./data/{playlist_id}_features.csv\",\n",
    "    index_col=0\n",
    ")\n",
    "\n",
    "df"
   ]
  },
  {
   "cell_type": "raw",
   "id": "0b878d3a-e62d-40b9-87ce-8813a0f843ea",
   "metadata": {},
   "source": [
    "df = (df - df.min()) / (df.max() - df.min())"
   ]
  },
  {
   "cell_type": "code",
   "execution_count": null,
   "id": "70648dbd-8fc1-4cb1-ba34-d33f117c9cd1",
   "metadata": {},
   "outputs": [],
   "source": [
    "distance_matrix = cdist(\n",
    "    df.values, \n",
    "    df.values, \n",
    "    'euclidean'\n",
    ")"
   ]
  },
  {
   "cell_type": "code",
   "execution_count": null,
   "id": "681ec822-d28a-443d-b82f-483903fbea06",
   "metadata": {},
   "outputs": [],
   "source": [
    "sns.heatmap(distance_matrix);"
   ]
  },
  {
   "cell_type": "markdown",
   "id": "0f16a31f-3b85-4a7f-8550-515bfc55df33",
   "metadata": {},
   "source": [
    "# Outliers"
   ]
  },
  {
   "cell_type": "code",
   "execution_count": null,
   "id": "aef58f1c-68cc-41e3-b970-fe5a222fea92",
   "metadata": {},
   "outputs": [],
   "source": [
    "sp = spotipy.Spotify(\n",
    "    client_credentials_manager=spotipy.oauth2.SpotifyClientCredentials()\n",
    ")"
   ]
  },
  {
   "cell_type": "markdown",
   "id": "914678df-7caf-4a48-b26f-c5b98f1888bf",
   "metadata": {},
   "source": [
    "sort tracks by their 'outlierness'. the tracks with the highest cumulative distance from the rest of the set should be the 'most different'. "
   ]
  },
  {
   "cell_type": "code",
   "execution_count": null,
   "id": "2528e60a-bd2c-4d57-a696-fff8a1d4b600",
   "metadata": {},
   "outputs": [],
   "source": [
    "sorted_indexes = distance_matrix.sum(1).argsort()\n",
    "sorted_indexes"
   ]
  },
  {
   "cell_type": "code",
   "execution_count": null,
   "id": "85dd51d4-7c08-497b-a30e-a30d7c63e210",
   "metadata": {},
   "outputs": [],
   "source": [
    "sorted_track_ids = df.index.values[sorted_indexes]"
   ]
  },
  {
   "cell_type": "markdown",
   "id": "53dfd356-0ab7-4d94-89ba-6dc41b46702f",
   "metadata": {},
   "source": [
    "### most alike"
   ]
  },
  {
   "cell_type": "code",
   "execution_count": null,
   "id": "ca809352-4077-411e-93c4-06bb489658e1",
   "metadata": {},
   "outputs": [],
   "source": [
    "for track_id in sorted_track_ids[:5]:\n",
    "    track = sp.track(track_id)\n",
    "    print(f\"{track['artists'][0]['name']}\\n  {track['name']}\\n\")"
   ]
  },
  {
   "cell_type": "markdown",
   "id": "dcb7b843-2139-4a16-8d2e-b21bde2fc5d3",
   "metadata": {},
   "source": [
    "### most different"
   ]
  },
  {
   "cell_type": "code",
   "execution_count": null,
   "id": "28177076-0125-425e-a49c-e327e0275f89",
   "metadata": {},
   "outputs": [],
   "source": [
    "for track_id in sorted_track_ids[:-6:-1]:\n",
    "    track = sp.track(track_id)\n",
    "    print(f\"{track['artists'][0]['name']}\\n  {track['name']}\\n\")"
   ]
  },
  {
   "cell_type": "markdown",
   "id": "868cde68-fc40-434e-88ba-c35e477ecb5d",
   "metadata": {},
   "source": [
    "# save"
   ]
  },
  {
   "cell_type": "code",
   "execution_count": null,
   "id": "2b1a9936-a347-43b1-9a97-45d41b8611c5",
   "metadata": {},
   "outputs": [],
   "source": [
    "with open(f\"./data/{playlist_id}_distance.npy\", \"wb\") as f:\n",
    "    np.save(f, distance_matrix)"
   ]
  },
  {
   "cell_type": "code",
   "execution_count": null,
   "id": "2df1e8cb-0a9d-48e6-bd3c-109c4f6dc983",
   "metadata": {},
   "outputs": [],
   "source": []
  }
 ],
 "metadata": {
  "kernelspec": {
   "display_name": "Python 3",
   "language": "python",
   "name": "python3"
  },
  "language_info": {
   "codemirror_mode": {
    "name": "ipython",
    "version": 3
   },
   "file_extension": ".py",
   "mimetype": "text/x-python",
   "name": "python",
   "nbconvert_exporter": "python",
   "pygments_lexer": "ipython3",
   "version": "3.9.2"
  }
 },
 "nbformat": 4,
 "nbformat_minor": 5
}
